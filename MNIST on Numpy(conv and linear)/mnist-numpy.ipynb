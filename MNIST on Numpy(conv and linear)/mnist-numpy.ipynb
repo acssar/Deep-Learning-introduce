{
 "cells": [
  {
   "cell_type": "code",
   "execution_count": 1,
   "id": "38f38bc6",
   "metadata": {
    "_cell_guid": "b1076dfc-b9ad-4769-8c92-a6c4dae69d19",
    "_uuid": "8f2839f25d086af736a60e9eeb907d3b93b6e0e5",
    "execution": {
     "iopub.execute_input": "2022-06-02T12:36:28.758232Z",
     "iopub.status.busy": "2022-06-02T12:36:28.757770Z",
     "iopub.status.idle": "2022-06-02T12:36:36.294005Z",
     "shell.execute_reply": "2022-06-02T12:36:36.292927Z"
    },
    "papermill": {
     "duration": 7.546441,
     "end_time": "2022-06-02T12:36:36.296647",
     "exception": false,
     "start_time": "2022-06-02T12:36:28.750206",
     "status": "completed"
    },
    "tags": []
   },
   "outputs": [],
   "source": [
    "import numpy as np # linear algebra\n",
    "import pandas as pd # data processing, CSV file I/O (e.g. pd.read_csv)\n",
    "from keras.datasets import mnist\n",
    "from keras.utils import np_utils\n",
    "from scipy import signal\n",
    "from sklearn.utils import shuffle\n",
    "# Input data files are available in the read-only \"../input/\" directory\n",
    "# For example, running this (by clicking run or pressing Shift+Enter) will list all files under the input directory\n",
    "\n",
    "import os\n",
    "# for dirname, _, filenames in os.walk('/kaggle/input'):\n",
    "#     for filename in filenames:\n",
    "#         print(os.path.join(dirname, filename))\n",
    "\n",
    "# You can write up to 20GB to the current directory (/kaggle/working/) that gets preserved as output when you create a version using \"Save & Run All\" \n",
    "# You can also write temporary files to /kaggle/temp/, but they won't be saved outside of the current session"
   ]
  },
  {
   "cell_type": "code",
   "execution_count": 2,
   "id": "e023edfe",
   "metadata": {
    "execution": {
     "iopub.execute_input": "2022-06-02T12:36:36.308833Z",
     "iopub.status.busy": "2022-06-02T12:36:36.308001Z",
     "iopub.status.idle": "2022-06-02T12:36:36.315487Z",
     "shell.execute_reply": "2022-06-02T12:36:36.314814Z"
    },
    "papermill": {
     "duration": 0.015688,
     "end_time": "2022-06-02T12:36:36.317478",
     "exception": false,
     "start_time": "2022-06-02T12:36:36.301790",
     "status": "completed"
    },
    "tags": []
   },
   "outputs": [],
   "source": [
    "class Layer:\n",
    "    def __init__(self):\n",
    "        self.input = None\n",
    "        self.output = None\n",
    "\n",
    "    def forward(self, input):\n",
    "        # return output\n",
    "        pass\n",
    "\n",
    "    def backward(self, output_gradient, learning_rate):\n",
    "        # update parameters and return input gradient\n",
    "        pass\n",
    "\n",
    "class Activation(Layer):\n",
    "    def __init__(self, activation, activation_derivative):\n",
    "        self.activation = activation\n",
    "        self.activation_derivative = activation_derivative\n",
    "\n",
    "    def forward(self, input):\n",
    "        self.input = input\n",
    "        return self.activation(self.input)\n",
    "\n",
    "    def backward(self, output_gradient, learning_rate):\n",
    "        return np.multiply(output_gradient, self.activation_derivative(self.input))    "
   ]
  },
  {
   "cell_type": "code",
   "execution_count": 3,
   "id": "7fdce399",
   "metadata": {
    "execution": {
     "iopub.execute_input": "2022-06-02T12:36:36.328642Z",
     "iopub.status.busy": "2022-06-02T12:36:36.327915Z",
     "iopub.status.idle": "2022-06-02T12:36:36.335686Z",
     "shell.execute_reply": "2022-06-02T12:36:36.334834Z"
    },
    "papermill": {
     "duration": 0.015749,
     "end_time": "2022-06-02T12:36:36.337896",
     "exception": false,
     "start_time": "2022-06-02T12:36:36.322147",
     "status": "completed"
    },
    "tags": []
   },
   "outputs": [],
   "source": [
    "class Linear(Layer):\n",
    "    def __init__(self, input_size, output_size):\n",
    "        self.weights = np.random.randn(output_size, input_size)\n",
    "        self.bias = np.random.randn(output_size, 1)\n",
    "\n",
    "    def forward(self, input):\n",
    "        self.input = input\n",
    "        return np.dot(self.weights, self.input) + self.bias\n",
    "\n",
    "    def backward(self, output_gradient, learning_rate):\n",
    "        weights_gradient = np.dot(output_gradient, self.input.T)\n",
    "        input_gradient = np.dot(self.weights.T, output_gradient)\n",
    "        self.weights -= learning_rate * weights_gradient\n",
    "        self.bias -= learning_rate * output_gradient\n",
    "        return input_gradient"
   ]
  },
  {
   "cell_type": "code",
   "execution_count": 4,
   "id": "78201210",
   "metadata": {
    "execution": {
     "iopub.execute_input": "2022-06-02T12:36:36.349043Z",
     "iopub.status.busy": "2022-06-02T12:36:36.348665Z",
     "iopub.status.idle": "2022-06-02T12:36:36.361250Z",
     "shell.execute_reply": "2022-06-02T12:36:36.360184Z"
    },
    "papermill": {
     "duration": 0.020589,
     "end_time": "2022-06-02T12:36:36.363228",
     "exception": false,
     "start_time": "2022-06-02T12:36:36.342639",
     "status": "completed"
    },
    "tags": []
   },
   "outputs": [],
   "source": [
    "def convolve2D(image, kernel, padding=0, strides=1, conv180=False):\n",
    "    # Cross Correlation to Convolution for Input updates\n",
    "    if conv180:\n",
    "        kernel = np.flipud(np.fliplr(kernel))\n",
    "\n",
    "    # Gather Shapes of Kernel + Image + Padding\n",
    "    xKernShape = kernel.shape[0]\n",
    "    yKernShape = kernel.shape[1]\n",
    "    xImgShape = image.shape[0]\n",
    "    yImgShape = image.shape[1]\n",
    "\n",
    "    # Shape of Output Convolution\n",
    "    xOutput = int(((xImgShape - xKernShape + 2 * padding) / strides) + 1)\n",
    "    yOutput = int(((yImgShape - yKernShape + 2 * padding) / strides) + 1)\n",
    "    output = np.zeros((xOutput, yOutput))\n",
    "\n",
    "    # Apply Padding to All Sides. Thats needed for \"full\" convolution \n",
    "    if padding != 0:\n",
    "        imagePadded = np.zeros((image.shape[0] + padding*2, image.shape[1] + padding*2))\n",
    "        imagePadded[int(padding):int(-1 * padding), int(padding):int(-1 * padding)] = image\n",
    "    else:\n",
    "        imagePadded = image\n",
    "\n",
    "    # Iterate through image\n",
    "    for y in range(image.shape[1]):\n",
    "        # Exit condition\n",
    "        if y > image.shape[1] - yKernShape:\n",
    "            break\n",
    "        # Only Convolve if y has gone down by the specified Strides\n",
    "        if y % strides == 0:\n",
    "            for x in range(image.shape[0]):\n",
    "                # Go to next row once kernel is out of bounds\n",
    "                if x > image.shape[0] - xKernShape:\n",
    "                    break\n",
    "                try:\n",
    "                    # Only Convolve if x has moved by the specified Strides\n",
    "                    if x % strides == 0:\n",
    "                        output[x, y] = (kernel * imagePadded[x: x + xKernShape, y: y + yKernShape]).sum()\n",
    "                except:\n",
    "                    break\n",
    "\n",
    "    return output"
   ]
  },
  {
   "cell_type": "code",
   "execution_count": 5,
   "id": "924a3849",
   "metadata": {
    "execution": {
     "iopub.execute_input": "2022-06-02T12:36:36.374653Z",
     "iopub.status.busy": "2022-06-02T12:36:36.374250Z",
     "iopub.status.idle": "2022-06-02T12:36:36.386713Z",
     "shell.execute_reply": "2022-06-02T12:36:36.385850Z"
    },
    "papermill": {
     "duration": 0.020839,
     "end_time": "2022-06-02T12:36:36.388744",
     "exception": false,
     "start_time": "2022-06-02T12:36:36.367905",
     "status": "completed"
    },
    "tags": []
   },
   "outputs": [],
   "source": [
    "class Convolutional(Layer):\n",
    "    def __init__(self, input_shape, kernel_size, depth):\n",
    "        input_depth, input_height, input_width = input_shape\n",
    "        self.depth = depth\n",
    "        self.input_shape = input_shape\n",
    "        self.input_depth = input_depth\n",
    "        self.output_shape = (depth, input_height - kernel_size + 1, input_width - kernel_size + 1)\n",
    "        self.kernels_shape = (depth, input_depth, kernel_size, kernel_size)\n",
    "        self.kernels = np.random.randn(*self.kernels_shape)\n",
    "        self.biases = np.random.randn(*self.output_shape)\n",
    "        self.pad_full = kernel_size - 1\n",
    "        print(self.pad_full)\n",
    "\n",
    "    def forward(self, input):\n",
    "        self.input = input\n",
    "        self.output = np.copy(self.biases)\n",
    "        for i in range(self.depth):\n",
    "            for j in range(self.input_depth):\n",
    "                self.output[i] += convolve2D(self.input[j], self.kernels[i][j])\n",
    "\n",
    "        return self.output\n",
    "\n",
    "    def backward(self, output_gradient, learning_rate):\n",
    "        kernels_gradient = np.zeros(self.kernels_shape)\n",
    "        input_gradient = np.zeros(self.input_shape)\n",
    "        \n",
    "        \n",
    "\n",
    "        for i in range(self.depth):\n",
    "            for j in range(self.input_depth):\n",
    "                kernels_gradient[i, j] = convolve2D(self.input[j], output_gradient[i])\n",
    "                input_gradient[j] += convolve2D(output_gradient[i], self.kernels[i, j], padding=self.pad_full, conv180=True)\n",
    "\n",
    "        self.kernels -= learning_rate * kernels_gradient\n",
    "        self.biases -= learning_rate * output_gradient\n",
    "        return input_gradient"
   ]
  },
  {
   "cell_type": "code",
   "execution_count": 6,
   "id": "754e9b03",
   "metadata": {
    "execution": {
     "iopub.execute_input": "2022-06-02T12:36:36.399770Z",
     "iopub.status.busy": "2022-06-02T12:36:36.399397Z",
     "iopub.status.idle": "2022-06-02T12:36:36.405925Z",
     "shell.execute_reply": "2022-06-02T12:36:36.404970Z"
    },
    "papermill": {
     "duration": 0.014379,
     "end_time": "2022-06-02T12:36:36.407933",
     "exception": false,
     "start_time": "2022-06-02T12:36:36.393554",
     "status": "completed"
    },
    "tags": []
   },
   "outputs": [],
   "source": [
    "class Reshape(Layer):\n",
    "    def __init__(self, input_shape, output_shape):\n",
    "        self.input_shape = input_shape\n",
    "        self.output_shape = output_shape\n",
    "\n",
    "    def forward(self, input):\n",
    "        return np.reshape(input, self.output_shape)\n",
    "\n",
    "    def backward(self, output_gradient, learning_rate):\n",
    "        return np.reshape(output_gradient, self.input_shape)"
   ]
  },
  {
   "cell_type": "code",
   "execution_count": 7,
   "id": "ed639caf",
   "metadata": {
    "execution": {
     "iopub.execute_input": "2022-06-02T12:36:36.418730Z",
     "iopub.status.busy": "2022-06-02T12:36:36.418276Z",
     "iopub.status.idle": "2022-06-02T12:36:36.424568Z",
     "shell.execute_reply": "2022-06-02T12:36:36.423602Z"
    },
    "papermill": {
     "duration": 0.013912,
     "end_time": "2022-06-02T12:36:36.426495",
     "exception": false,
     "start_time": "2022-06-02T12:36:36.412583",
     "status": "completed"
    },
    "tags": []
   },
   "outputs": [],
   "source": [
    "class Sigmoid(Activation):\n",
    "    def __init__(self):\n",
    "        def sigmoid(x):\n",
    "            return 1 / (1 + np.exp(-x))\n",
    "\n",
    "        def sigmoid_derivative(x):\n",
    "            s = sigmoid(x)\n",
    "            return s * (1 - s)\n",
    "\n",
    "        super().__init__(sigmoid, sigmoid_derivative)"
   ]
  },
  {
   "cell_type": "code",
   "execution_count": 8,
   "id": "f3070a3d",
   "metadata": {
    "execution": {
     "iopub.execute_input": "2022-06-02T12:36:36.437832Z",
     "iopub.status.busy": "2022-06-02T12:36:36.436866Z",
     "iopub.status.idle": "2022-06-02T12:36:36.443176Z",
     "shell.execute_reply": "2022-06-02T12:36:36.442280Z"
    },
    "papermill": {
     "duration": 0.01442,
     "end_time": "2022-06-02T12:36:36.445490",
     "exception": false,
     "start_time": "2022-06-02T12:36:36.431070",
     "status": "completed"
    },
    "tags": []
   },
   "outputs": [],
   "source": [
    "def binary_cross_entropy(y_true, y_pred):\n",
    "    return np.mean(-y_true * np.log(y_pred) - (1 - y_true) * np.log(1 - y_pred))\n",
    "\n",
    "def binary_cross_entropy_derivative(y_true, y_pred):\n",
    "    return ((1 - y_true) / (1 - y_pred) - y_true / y_pred) / np.size(y_true)"
   ]
  },
  {
   "cell_type": "code",
   "execution_count": 9,
   "id": "157d6fc9",
   "metadata": {
    "execution": {
     "iopub.execute_input": "2022-06-02T12:36:36.456980Z",
     "iopub.status.busy": "2022-06-02T12:36:36.456134Z",
     "iopub.status.idle": "2022-06-02T12:36:36.461453Z",
     "shell.execute_reply": "2022-06-02T12:36:36.460611Z"
    },
    "papermill": {
     "duration": 0.013041,
     "end_time": "2022-06-02T12:36:36.463365",
     "exception": false,
     "start_time": "2022-06-02T12:36:36.450324",
     "status": "completed"
    },
    "tags": []
   },
   "outputs": [],
   "source": [
    "def mse(y_true, y_pred):\n",
    "    return np.mean(np.power(y_true - y_pred, 2))\n",
    "\n",
    "def mse_derivative(y_true, y_pred):\n",
    "    return 2 * (y_pred - y_true) / np.size(y_true)"
   ]
  },
  {
   "cell_type": "code",
   "execution_count": 10,
   "id": "28f7c649",
   "metadata": {
    "execution": {
     "iopub.execute_input": "2022-06-02T12:36:36.474506Z",
     "iopub.status.busy": "2022-06-02T12:36:36.474083Z",
     "iopub.status.idle": "2022-06-02T12:36:36.488329Z",
     "shell.execute_reply": "2022-06-02T12:36:36.487655Z"
    },
    "papermill": {
     "duration": 0.022093,
     "end_time": "2022-06-02T12:36:36.490181",
     "exception": false,
     "start_time": "2022-06-02T12:36:36.468088",
     "status": "completed"
    },
    "tags": []
   },
   "outputs": [],
   "source": [
    "def predict(network, input):\n",
    "    output = input\n",
    "    for layer in network:\n",
    "        output = layer.forward(output)\n",
    "    return output\n",
    "\n",
    "def train(network, loss, loss_derivative, x_train, y_train, epochs = 1000, learning_rate = 0.01, verbose = True):\n",
    "    history={\"train_loss\":[], \"train_accuracy\":[], \"val_loss\":[], \"val_accuracy\":[]}\n",
    "    for e in range(epochs):\n",
    "        x_train, y_train = shuffle(x_train, y_train)\n",
    "        error = 0\n",
    "        num_correct = 0\n",
    "        for x, y in zip(x_train, y_train):\n",
    "            # forward\n",
    "            output = predict(network, x)\n",
    "            if np.argmax(output) == np.argmax(y):\n",
    "                num_correct += 1\n",
    "            # error\n",
    "            error += loss(y, output)\n",
    "           \n",
    "\n",
    "            # backward\n",
    "            grad = loss_derivative(y, output)\n",
    "            for layer in reversed(network):\n",
    "                grad = layer.backward(grad, learning_rate)\n",
    "\n",
    "        error /= len(x_train)\n",
    "        num_correct /= len(x_train)\n",
    "        history[\"train_loss\"].append(error)\n",
    "        history[\"train_accuracy\"].append(num_correct)\n",
    "        if verbose:\n",
    "            print(f\"epoch {e + 1}/{epochs}, train_loss: {error}\") \n",
    "            print(f\"accuracy on train: {num_correct}\")  \n",
    "        # test\n",
    "        pr_r = 0\n",
    "        err = 0\n",
    "        for x, y in zip(x_test, y_test):\n",
    "            output = predict(network, x)\n",
    "            err += loss(y, output)\n",
    "            \n",
    "        #     print(f\"pred: {np.argmax(output)}, true: {np.argmax(y)}\")\n",
    "            if np.argmax(output) == np.argmax(y):\n",
    "                pr_r += 1\n",
    "        err /= len(x_test)\n",
    "        pr_r /= len(x_test)\n",
    "        history[\"val_loss\"].append(err)\n",
    "        history[\"val_accuracy\"].append(pr_r)\n",
    "        print(f\"loss on val: {err}\") \n",
    "        print(f\"accuracy on val: {pr_r}\")\n",
    "    return history"
   ]
  },
  {
   "cell_type": "code",
   "execution_count": 11,
   "id": "3b73233a",
   "metadata": {
    "execution": {
     "iopub.execute_input": "2022-06-02T12:36:36.501587Z",
     "iopub.status.busy": "2022-06-02T12:36:36.501107Z",
     "iopub.status.idle": "2022-06-02T14:07:54.085934Z",
     "shell.execute_reply": "2022-06-02T14:07:54.084765Z"
    },
    "papermill": {
     "duration": 5477.609339,
     "end_time": "2022-06-02T14:07:54.104316",
     "exception": false,
     "start_time": "2022-06-02T12:36:36.494977",
     "status": "completed"
    },
    "tags": []
   },
   "outputs": [
    {
     "name": "stdout",
     "output_type": "stream",
     "text": [
      "Downloading data from https://storage.googleapis.com/tensorflow/tf-keras-datasets/mnist.npz\n",
      "11493376/11490434 [==============================] - 0s 0us/step\n",
      "11501568/11490434 [==============================] - 0s 0us/step\n",
      "2\n",
      "epoch 1/20, train_loss: 0.32394529258225446\n",
      "accuracy on train: 0.24\n",
      "loss on val: 0.2907984765698447\n",
      "accuracy on val: 0.314\n",
      "epoch 2/20, train_loss: 0.26338956427080057\n",
      "accuracy on train: 0.4023333333333333\n",
      "loss on val: 0.25951953456144067\n",
      "accuracy on val: 0.424\n",
      "epoch 3/20, train_loss: 0.2253843179394851\n",
      "accuracy on train: 0.5196666666666667\n",
      "loss on val: 0.22004048567514856\n",
      "accuracy on val: 0.506\n",
      "epoch 4/20, train_loss: 0.19570445116736043\n",
      "accuracy on train: 0.5916666666666667\n",
      "loss on val: 0.20712054307076275\n",
      "accuracy on val: 0.568\n",
      "epoch 5/20, train_loss: 0.1786795415018753\n",
      "accuracy on train: 0.648\n",
      "loss on val: 0.18943484800000948\n",
      "accuracy on val: 0.615\n",
      "epoch 6/20, train_loss: 0.16409314294764765\n",
      "accuracy on train: 0.6856666666666666\n",
      "loss on val: 0.16869147234867776\n",
      "accuracy on val: 0.67\n",
      "epoch 7/20, train_loss: 0.15400740951158762\n",
      "accuracy on train: 0.71\n",
      "loss on val: 0.16251899756544183\n",
      "accuracy on val: 0.658\n",
      "epoch 8/20, train_loss: 0.144501024114797\n",
      "accuracy on train: 0.7376666666666667\n",
      "loss on val: 0.16483503817666825\n",
      "accuracy on val: 0.671\n",
      "epoch 9/20, train_loss: 0.1369172746971168\n",
      "accuracy on train: 0.7566666666666667\n",
      "loss on val: 0.149891555593322\n",
      "accuracy on val: 0.731\n",
      "epoch 10/20, train_loss: 0.12770865046579877\n",
      "accuracy on train: 0.772\n",
      "loss on val: 0.14092430398487363\n",
      "accuracy on val: 0.741\n",
      "epoch 11/20, train_loss: 0.12187474301641942\n",
      "accuracy on train: 0.7863333333333333\n",
      "loss on val: 0.13440783719564325\n",
      "accuracy on val: 0.753\n",
      "epoch 12/20, train_loss: 0.11491224441734486\n",
      "accuracy on train: 0.8083333333333333\n",
      "loss on val: 0.13056625948591108\n",
      "accuracy on val: 0.749\n",
      "epoch 13/20, train_loss: 0.11197457591814816\n",
      "accuracy on train: 0.8126666666666666\n",
      "loss on val: 0.12445536780101121\n",
      "accuracy on val: 0.787\n",
      "epoch 14/20, train_loss: 0.10534848428987319\n",
      "accuracy on train: 0.8256666666666667\n",
      "loss on val: 0.11971246326968808\n",
      "accuracy on val: 0.788\n",
      "epoch 15/20, train_loss: 0.10169833154128075\n",
      "accuracy on train: 0.826\n",
      "loss on val: 0.11372350269993142\n",
      "accuracy on val: 0.814\n",
      "epoch 16/20, train_loss: 0.09942838185866748\n",
      "accuracy on train: 0.8346666666666667\n",
      "loss on val: 0.12137020657582154\n",
      "accuracy on val: 0.794\n",
      "epoch 17/20, train_loss: 0.09435696289282926\n",
      "accuracy on train: 0.846\n",
      "loss on val: 0.12334714085301868\n",
      "accuracy on val: 0.785\n",
      "epoch 18/20, train_loss: 0.0943037953349739\n",
      "accuracy on train: 0.833\n",
      "loss on val: 0.1171398980084716\n",
      "accuracy on val: 0.775\n",
      "epoch 19/20, train_loss: 0.08969565578705228\n",
      "accuracy on train: 0.855\n",
      "loss on val: 0.10719386952887802\n",
      "accuracy on val: 0.82\n",
      "epoch 20/20, train_loss: 0.08943676536667092\n",
      "accuracy on train: 0.8513333333333334\n",
      "loss on val: 0.10218052396392824\n",
      "accuracy on val: 0.825\n"
     ]
    }
   ],
   "source": [
    "def preprocess_data(x, y, limit):\n",
    "    indices = []\n",
    "    for i in range(10): \n",
    "        current = np.where(y==i)[0][:limit]\n",
    "        indices.append(current)\n",
    "        \n",
    "    all_indices = np.hstack((indices[0],indices[1],indices[2],indices[3],indices[4],indices[5],indices[6],indices[7],indices[8],indices[9]))\n",
    "    all_indices = np.random.permutation(all_indices)\n",
    "    x, y = x[all_indices], y[all_indices]\n",
    "    x = x.reshape(len(x), 1, 28, 28)\n",
    "    x = x.astype(\"float32\") / 255\n",
    "    y = np_utils.to_categorical(y)\n",
    "#     print(y)\n",
    "    y = y.reshape(len(y), 10, 1)\n",
    "    return x, y\n",
    "# load MNIST from server, limit to 100 images per class since we're not training on GPU\n",
    "(x_train, y_train), (x_test, y_test) = mnist.load_data()\n",
    "x_train, y_train = preprocess_data(x_train, y_train, 300)\n",
    "x_test, y_test = preprocess_data(x_test, y_test, 100)\n",
    "# print(len(x_test))\n",
    "# print(len(y_test))\n",
    "\n",
    "# neural network\n",
    "network = [\n",
    "    Convolutional((1, 28, 28), 3, 5),  # one-channel image 28x28, 3x3 kernel, depth 5\n",
    "    Sigmoid(),\n",
    "    Reshape((5, 26, 26), (5 * 26 * 26, 1)),\n",
    "    Linear(5 * 26 * 26, 100),\n",
    "    Sigmoid(),\n",
    "    Linear(100, 10),\n",
    "    Sigmoid()\n",
    "]\n",
    "\n",
    "\n",
    "\n",
    "\n",
    "# train\n",
    "history = train(\n",
    "    network,\n",
    "    binary_cross_entropy,\n",
    "    binary_cross_entropy_derivative,\n",
    "    x_train,\n",
    "    y_train,\n",
    "    epochs=20,\n",
    "    learning_rate=0.1\n",
    ")\n",
    "\n",
    "      \n",
    "        \n",
    "    "
   ]
  },
  {
   "cell_type": "code",
   "execution_count": 12,
   "id": "8d4c0889",
   "metadata": {
    "execution": {
     "iopub.execute_input": "2022-06-02T14:07:54.136623Z",
     "iopub.status.busy": "2022-06-02T14:07:54.135205Z",
     "iopub.status.idle": "2022-06-02T14:07:54.418119Z",
     "shell.execute_reply": "2022-06-02T14:07:54.417153Z"
    },
    "papermill": {
     "duration": 0.301718,
     "end_time": "2022-06-02T14:07:54.420510",
     "exception": false,
     "start_time": "2022-06-02T14:07:54.118792",
     "status": "completed"
    },
    "tags": []
   },
   "outputs": [
    {
     "data": {
      "text/plain": [
       "<matplotlib.legend.Legend at 0x7f787718f1d0>"
      ]
     },
     "execution_count": 12,
     "metadata": {},
     "output_type": "execute_result"
    },
    {
     "data": {
      "image/png": "[encoded data removed]",
      "text/plain": [
       "<Figure size 432x288 with 1 Axes>"
      ]
     },
     "metadata": {},
     "output_type": "display_data"
    }
   ],
   "source": [
    "import matplotlib.pyplot as plt \n",
    "plt.style.use('Solarize_Light2')\n",
    "plt.figure()\n",
    "plt.plot(history[\"train_loss\"], label=\"train_loss\")\n",
    "plt.plot(history[\"val_loss\"], label=\"valid_loss\")\n",
    "plt.title(\"loss\")\n",
    "plt.xlabel(\"epoch\")\n",
    "plt.ylabel(\"loss\")\n",
    "plt.legend(loc='upper right')\n"
   ]
  },
  {
   "cell_type": "code",
   "execution_count": 13,
   "id": "14d5cff2",
   "metadata": {
    "execution": {
     "iopub.execute_input": "2022-06-02T14:07:54.439331Z",
     "iopub.status.busy": "2022-06-02T14:07:54.438947Z",
     "iopub.status.idle": "2022-06-02T14:07:54.657116Z",
     "shell.execute_reply": "2022-06-02T14:07:54.655879Z"
    },
    "papermill": {
     "duration": 0.230215,
     "end_time": "2022-06-02T14:07:54.659356",
     "exception": false,
     "start_time": "2022-06-02T14:07:54.429141",
     "status": "completed"
    },
    "tags": []
   },
   "outputs": [
    {
     "data": {
      "text/plain": [
       "<matplotlib.legend.Legend at 0x7f787709de90>"
      ]
     },
     "execution_count": 13,
     "metadata": {},
     "output_type": "execute_result"
    },
    {
     "data": {
      "image/png": "[encoded data removed]",
      "text/plain": [
       "<Figure size 432x288 with 1 Axes>"
      ]
     },
     "metadata": {},
     "output_type": "display_data"
    }
   ],
   "source": [
    "import matplotlib.pyplot as plt \n",
    "plt.style.use('Solarize_Light2')\n",
    "plt.figure()\n",
    "plt.plot(history[\"train_accuracy\"], label=\"train_acc\")\n",
    "plt.plot(history[\"val_accuracy\"], label=\"valid_acc\")\n",
    "plt.title(\"accuracy\")\n",
    "plt.xlabel(\"epoch\")\n",
    "plt.ylabel(\"acc\")\n",
    "plt.legend(loc='lower right')\n"
   ]
  },
  {
   "cell_type": "code",
   "execution_count": null,
   "id": "d28bd954",
   "metadata": {
    "papermill": {
     "duration": 0.008946,
     "end_time": "2022-06-02T14:07:54.677706",
     "exception": false,
     "start_time": "2022-06-02T14:07:54.668760",
     "status": "completed"
    },
    "tags": []
   },
   "outputs": [],
   "source": []
  }
 ],
 "metadata": {
  "kernelspec": {
   "display_name": "Python 3",
   "language": "python",
   "name": "python3"
  },
  "language_info": {
   "codemirror_mode": {
    "name": "ipython",
    "version": 3
   },
   "file_extension": ".py",
   "mimetype": "text/x-python",
   "name": "python",
   "nbconvert_exporter": "python",
   "pygments_lexer": "ipython3",
   "version": "3.7.12"
  },
  "papermill": {
   "default_parameters": {},
   "duration": 5499.165274,
   "end_time": "2022-06-02T14:07:57.657352",
   "environment_variables": {},
   "exception": null,
   "input_path": "__notebook__.ipynb",
   "output_path": "__notebook__.ipynb",
   "parameters": {},
   "start_time": "2022-06-02T12:36:18.492078",
   "version": "2.3.4"
  }
 },
 "nbformat": 4,
 "nbformat_minor": 5
}
